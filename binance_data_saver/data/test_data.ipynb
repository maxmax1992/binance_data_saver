{
 "cells": [
  {
   "cell_type": "code",
   "execution_count": 1,
   "metadata": {},
   "outputs": [],
   "source": [
    "import pyarrow as pa\n",
    "import pyarrow.parquet as pq\n",
    "import pyarrow.dataset as ds\n",
    "import pandas as pd\n",
    "# pq.read_table(parquet_files[0]).to_pandas()"
   ]
  },
  {
   "cell_type": "code",
   "execution_count": 2,
   "metadata": {},
   "outputs": [],
   "source": [
    "import os\n",
    "parquet_files = [x for x in os.listdir(\"../data/\") if 'parquet' in x ]"
   ]
  },
  {
   "cell_type": "code",
   "execution_count": 3,
   "metadata": {},
   "outputs": [
    {
     "data": {
      "text/plain": [
       "['data_4.parquet',\n",
       " 'data_5.parquet',\n",
       " 'data_6.parquet',\n",
       " 'data_3.parquet',\n",
       " 'data_2.parquet',\n",
       " 'data_1.parquet']"
      ]
     },
     "execution_count": 3,
     "metadata": {},
     "output_type": "execute_result"
    }
   ],
   "source": [
    "parquet_files"
   ]
  },
  {
   "cell_type": "code",
   "execution_count": 4,
   "metadata": {},
   "outputs": [],
   "source": [
    "dataset = ds.dataset(parquet_files,  format=\"parquet\")\n",
    "# print(dataset)\n",
    "table = dataset.to_table()\n",
    "df = dataset.to_table().to_pandas()"
   ]
  },
  {
   "cell_type": "code",
   "execution_count": 5,
   "metadata": {},
   "outputs": [],
   "source": [
    "file_content=\"\"\n",
    "for (a, b) in df.iloc[2, :].items():\n",
    "    file_content += f\"{a}: {b}\\n\"\n",
    "with open(\"test_data.txt\", \"w\") as f:\n",
    "    f.write(file_content)"
   ]
  },
  {
   "cell_type": "code",
   "execution_count": null,
   "metadata": {},
   "outputs": [],
   "source": [
    "# table = pa.concat_tables([table for i in range(500)])"
   ]
  },
  {
   "cell_type": "code",
   "execution_count": null,
   "metadata": {},
   "outputs": [
    {
     "name": "stdout",
     "output_type": "stream",
     "text": [
      "Compression type: BROTLI, time: 3.960012912750244\n",
      "Size: 0.114722 MB\n",
      "Compression type: NONE, time: 3.8719499111175537\n",
      "Size: 8.077101 MB\n",
      "Compression type: SNAPPY, time: 3.8648738861083984\n",
      "Size: 1.76972 MB\n",
      "Compression type: ZSTD, time: 3.8634769916534424\n",
      "Size: 0.120596 MB\n",
      "Compression type: LZ4, time: 3.872826099395752\n",
      "Size: 0.208527 MB\n",
      "Compression type: GZIP, time: 3.9094581604003906\n",
      "Size: 0.17981 MB\n",
      "Compression type: BROTLI, time: 0.3269500732421875\n",
      "Compression type: NONE, time: 0.31047892570495605\n",
      "Compression type: SNAPPY, time: 0.24066686630249023\n",
      "Compression type: ZSTD, time: 0.22202372550964355\n",
      "Compression type: LZ4, time: 0.21355605125427246\n",
      "Compression type: GZIP, time: 0.2121741771697998\n"
     ]
    }
   ],
   "source": [
    "# import time\n",
    "# compression_types = list({'NONE', 'SNAPPY', 'GZIP', 'BROTLI', 'LZ4', 'ZSTD'})\n",
    "# for c_type in compression_types:\n",
    "#     start_time = time.time()\n",
    "#     # pq.write_table(table, f\"./data_compressed/{self.iteration}.parquet\", compression=None)\n",
    "#     pq.write_table(table, f\"./data_compressed/{c_type}.parquet\", compression=c_type)\n",
    "#     end_time = time.time()\n",
    "#     print(f\"Compression type: {c_type}, time: {end_time - start_time}\")\n",
    "#     print(f\"Size: {os.path.getsize(f'./data_compressed/{c_type}.parquet') / 1e6} MB\")\n",
    "\n",
    "# # test read speeds:\n",
    "# for c_type in compression_types:\n",
    "#     start_time = time.time()\n",
    "#     pq.read_table(f\"./data_compressed/{c_type}.parquet\")\n",
    "#     end_time = time.time()\n",
    "#     print(f\"Compression type: {c_type}, time: {end_time - start_time}\")"
   ]
  },
  {
   "cell_type": "code",
   "execution_count": null,
   "metadata": {},
   "outputs": [],
   "source": []
  },
  {
   "cell_type": "code",
   "execution_count": null,
   "metadata": {},
   "outputs": [],
   "source": []
  }
 ],
 "metadata": {
  "kernelspec": {
   "display_name": "log-return-trader-k7bnHFlf-py3.12",
   "language": "python",
   "name": "python3"
  },
  "language_info": {
   "codemirror_mode": {
    "name": "ipython",
    "version": 3
   },
   "file_extension": ".py",
   "mimetype": "text/x-python",
   "name": "python",
   "nbconvert_exporter": "python",
   "pygments_lexer": "ipython3",
   "version": "3.12.2"
  },
  "orig_nbformat": 4
 },
 "nbformat": 4,
 "nbformat_minor": 2
}
